{
 "cells": [
  {
   "cell_type": "code",
   "execution_count": null,
   "metadata": {},
   "outputs": [
    {
     "data": {
      "text/plain": [
       "['summary_20250316_015501.txt',\n",
       " 'how_to_apply_20250316_111228.md',\n",
       " 'evaluated_applications_20250314_201528.json',\n",
       " 'evaluated_applications_20250315_172239.json',\n",
       " 'evaluated_applications_20250316_133722.json',\n",
       " 'application_pages_20250315_173633.json',\n",
       " 'summary_20250315_173633.txt',\n",
       " 'summary_20250316_133722.txt',\n",
       " 'summary_20250316_014123.txt',\n",
       " 'evaluated_applications_20250316_110959.json',\n",
       " 'how_to_apply_20250316_133723.csv',\n",
       " 'evaluated_applications_20250315_170448.json',\n",
       " 'application_pages_20250316_133722.json',\n",
       " 'application_pages_20250315_163706.json',\n",
       " 'how_to_apply_20250316_111228.csv',\n",
       " 'evaluated_applications_20250316_014123.json',\n",
       " 'summary_20250316_110959.txt',\n",
       " 'application_pages_20250315_164305.json',\n",
       " 'evaluated_applications_20250315_171320.json',\n",
       " 'summary_20250315_163706.txt',\n",
       " 'summary_20250316_111228.txt',\n",
       " 'application_pages_20250315_172239.json',\n",
       " 'evaluated_applications_20250315_171703.json',\n",
       " 'evaluated_applications_20250315_165527.json',\n",
       " 'evaluated_applications_20250316_104021.json',\n",
       " 'applications_20250316_014123.csv',\n",
       " 'how_to_apply_20250316_113738.csv',\n",
       " 'application_pages_20250316_015501.json',\n",
       " 'application_pages_20250316_110959.json',\n",
       " 'summary_20250316_104021.txt',\n",
       " 'how_to_apply_20250316_133723.md',\n",
       " 'evaluated_applications_20250316_015501.json',\n",
       " 'summary_20250315_165527.txt',\n",
       " 'how_to_apply_20250316_110959.md',\n",
       " 'application_pages_20250315_171703.json',\n",
       " 'evaluated_applications_20250316_113738.json',\n",
       " 'application_pages_20250316_104021.json',\n",
       " 'summary_20250316_113738.txt',\n",
       " 'evaluated_applications_20250315_163706.json',\n",
       " 'application_pages_20250315_171320.json',\n",
       " 'evaluated_applications_20250316_105307.json',\n",
       " 'how_to_apply_20250316_105307.md',\n",
       " 'summary_20250316_012631.txt',\n",
       " 'evaluated_applications_20250315_173633.json',\n",
       " 'application_pages_20250316_111228.json',\n",
       " 'evaluated_applications_20250316_012631.json',\n",
       " 'how_to_apply_20250316_110959.csv',\n",
       " 'application_pages_20250315_165527.json',\n",
       " 'summary_20250315_171703.txt',\n",
       " 'summary_20250316_105307.txt',\n",
       " 'summary_20250315_164305.txt',\n",
       " 'application_pages_20250314_201528.json',\n",
       " 'summary_20250315_172239.txt',\n",
       " 'checkpoints',\n",
       " 'application_pages_20250315_172447.json',\n",
       " 'summary_20250315_172447.txt',\n",
       " 'how_to_apply_20250316_105307.csv',\n",
       " 'application_pages_20250316_012631.json',\n",
       " 'summary_20250314_201528.txt',\n",
       " 'evaluated_applications_20250315_164305.json',\n",
       " 'how_to_apply_20250316_113738.md',\n",
       " 'evaluated_applications_20250316_111228.json',\n",
       " 'application_pages_20250316_014123.json',\n",
       " 'application_pages_20250316_105307.json',\n",
       " 'evaluated_applications_20250315_172447.json',\n",
       " 'application_pages_20250316_113738.json',\n",
       " 'application_pages_20250315_170448.json']"
      ]
     },
     "execution_count": 3,
     "metadata": {},
     "output_type": "execute_result"
    }
   ],
   "source": [
    "import json\n",
    "import os\n",
    "import pandas as pd\n",
    "import re"
   ]
  },
  {
   "cell_type": "code",
   "execution_count": null,
   "metadata": {},
   "outputs": [],
   "source": [
    "# get the list of files in the outputs directory\n",
    "files = os.listdir('outputs')\n",
    "\n",
    "files"
   ]
  },
  {
   "cell_type": "code",
   "execution_count": null,
   "metadata": {},
   "outputs": [
    {
     "data": {
      "text/plain": [
       "['application_pages_20250315_173633.json',\n",
       " 'application_pages_20250316_133722.json',\n",
       " 'application_pages_20250315_163706.json',\n",
       " 'application_pages_20250315_164305.json',\n",
       " 'application_pages_20250315_172239.json',\n",
       " 'application_pages_20250316_015501.json',\n",
       " 'application_pages_20250316_110959.json',\n",
       " 'application_pages_20250315_171703.json',\n",
       " 'application_pages_20250316_104021.json',\n",
       " 'application_pages_20250315_171320.json',\n",
       " 'application_pages_20250316_111228.json',\n",
       " 'application_pages_20250315_165527.json',\n",
       " 'application_pages_20250314_201528.json',\n",
       " 'application_pages_20250315_172447.json',\n",
       " 'application_pages_20250316_012631.json',\n",
       " 'application_pages_20250316_014123.json',\n",
       " 'application_pages_20250316_105307.json',\n",
       " 'application_pages_20250316_113738.json',\n",
       " 'application_pages_20250315_170448.json']"
      ]
     },
     "execution_count": 4,
     "metadata": {},
     "output_type": "execute_result"
    }
   ],
   "source": [
    "# filter the files that match the regex pattern\n",
    "pattern = re.compile(r'application_pages_.*\\.json')\n",
    "filtered_files = [file for file in files if pattern.match(file)]\n",
    "\n",
    "filtered_files"
   ]
  },
  {
   "cell_type": "code",
   "execution_count": 7,
   "metadata": {
    "vscode": {
     "languageId": "markdown"
    }
   },
   "outputs": [
    {
     "data": {
      "application/vnd.microsoft.datawrangler.viewer.v0+json": {
       "columns": [
        {
         "name": "index",
         "rawType": "int64",
         "type": "integer"
        },
        {
         "name": "filename",
         "rawType": "object",
         "type": "string"
        },
        {
         "name": "university",
         "rawType": "object",
         "type": "string"
        },
        {
         "name": "url",
         "rawType": "object",
         "type": "string"
        }
       ],
       "conversionMethod": "pd.DataFrame",
       "ref": "0d9671b0-72d0-4c78-86f6-438229f51ea5",
       "rows": [],
       "shape": {
        "columns": 3,
        "rows": 0
       }
      },
      "text/html": [
       "<div>\n",
       "<style scoped>\n",
       "    .dataframe tbody tr th:only-of-type {\n",
       "        vertical-align: middle;\n",
       "    }\n",
       "\n",
       "    .dataframe tbody tr th {\n",
       "        vertical-align: top;\n",
       "    }\n",
       "\n",
       "    .dataframe thead th {\n",
       "        text-align: right;\n",
       "    }\n",
       "</style>\n",
       "<table border=\"1\" class=\"dataframe\">\n",
       "  <thead>\n",
       "    <tr style=\"text-align: right;\">\n",
       "      <th></th>\n",
       "      <th>filename</th>\n",
       "      <th>university</th>\n",
       "      <th>url</th>\n",
       "    </tr>\n",
       "  </thead>\n",
       "  <tbody>\n",
       "  </tbody>\n",
       "</table>\n",
       "</div>"
      ],
      "text/plain": [
       "Empty DataFrame\n",
       "Columns: [filename, university, url]\n",
       "Index: []"
      ]
     },
     "execution_count": 7,
     "metadata": {},
     "output_type": "execute_result"
    }
   ],
   "source": [
    "# create an empty DataFrame\n",
    "df = pd.DataFrame(columns=['filename', \"university\", \"url\"])\n",
    "\n",
    "df.head()"
   ]
  },
  {
   "cell_type": "code",
   "execution_count": 9,
   "metadata": {},
   "outputs": [
    {
     "data": {
      "application/vnd.microsoft.datawrangler.viewer.v0+json": {
       "columns": [
        {
         "name": "index",
         "rawType": "int64",
         "type": "integer"
        },
        {
         "name": "filename",
         "rawType": "object",
         "type": "string"
        },
        {
         "name": "university",
         "rawType": "object",
         "type": "string"
        },
        {
         "name": "url",
         "rawType": "object",
         "type": "string"
        }
       ],
       "conversionMethod": "pd.DataFrame",
       "ref": "e46687fb-3bf2-46d1-8339-ebb199b55924",
       "rows": [
        [
         "0",
         "application_pages_20250315_173633.json",
         "University of Cambridge",
         "https://www.undergraduate.study.cam.ac.uk/find-out-more/getting-here?ucam-ref=home-firstug"
        ],
        [
         "1",
         "application_pages_20250315_173633.json",
         "University of Cambridge",
         "https://www.undergraduate.study.cam.ac.uk/international-students?ucam-ref=home-firstug"
        ],
        [
         "2",
         "application_pages_20250315_173633.json",
         "University of Cambridge",
         "https://www.undergraduate.study.cam.ac.uk/colleges/choosing-a-college?ucam-ref=home-firstug"
        ],
        [
         "3",
         "application_pages_20250315_173633.json",
         "University of Cambridge",
         "https://www.undergraduate.study.cam.ac.uk?ucam-ref=homepage-signpost"
        ],
        [
         "4",
         "application_pages_20250315_173633.json",
         "University of Cambridge",
         "https://www.undergraduate.study.cam.ac.uk/courses?ucam-ref=homepage-signpost"
        ]
       ],
       "shape": {
        "columns": 3,
        "rows": 5
       }
      },
      "text/html": [
       "<div>\n",
       "<style scoped>\n",
       "    .dataframe tbody tr th:only-of-type {\n",
       "        vertical-align: middle;\n",
       "    }\n",
       "\n",
       "    .dataframe tbody tr th {\n",
       "        vertical-align: top;\n",
       "    }\n",
       "\n",
       "    .dataframe thead th {\n",
       "        text-align: right;\n",
       "    }\n",
       "</style>\n",
       "<table border=\"1\" class=\"dataframe\">\n",
       "  <thead>\n",
       "    <tr style=\"text-align: right;\">\n",
       "      <th></th>\n",
       "      <th>filename</th>\n",
       "      <th>university</th>\n",
       "      <th>url</th>\n",
       "    </tr>\n",
       "  </thead>\n",
       "  <tbody>\n",
       "    <tr>\n",
       "      <th>0</th>\n",
       "      <td>application_pages_20250315_173633.json</td>\n",
       "      <td>University of Cambridge</td>\n",
       "      <td>https://www.undergraduate.study.cam.ac.uk/find...</td>\n",
       "    </tr>\n",
       "    <tr>\n",
       "      <th>1</th>\n",
       "      <td>application_pages_20250315_173633.json</td>\n",
       "      <td>University of Cambridge</td>\n",
       "      <td>https://www.undergraduate.study.cam.ac.uk/inte...</td>\n",
       "    </tr>\n",
       "    <tr>\n",
       "      <th>2</th>\n",
       "      <td>application_pages_20250315_173633.json</td>\n",
       "      <td>University of Cambridge</td>\n",
       "      <td>https://www.undergraduate.study.cam.ac.uk/coll...</td>\n",
       "    </tr>\n",
       "    <tr>\n",
       "      <th>3</th>\n",
       "      <td>application_pages_20250315_173633.json</td>\n",
       "      <td>University of Cambridge</td>\n",
       "      <td>https://www.undergraduate.study.cam.ac.uk?ucam...</td>\n",
       "    </tr>\n",
       "    <tr>\n",
       "      <th>4</th>\n",
       "      <td>application_pages_20250315_173633.json</td>\n",
       "      <td>University of Cambridge</td>\n",
       "      <td>https://www.undergraduate.study.cam.ac.uk/cour...</td>\n",
       "    </tr>\n",
       "  </tbody>\n",
       "</table>\n",
       "</div>"
      ],
      "text/plain": [
       "                                 filename               university  \\\n",
       "0  application_pages_20250315_173633.json  University of Cambridge   \n",
       "1  application_pages_20250315_173633.json  University of Cambridge   \n",
       "2  application_pages_20250315_173633.json  University of Cambridge   \n",
       "3  application_pages_20250315_173633.json  University of Cambridge   \n",
       "4  application_pages_20250315_173633.json  University of Cambridge   \n",
       "\n",
       "                                                 url  \n",
       "0  https://www.undergraduate.study.cam.ac.uk/find...  \n",
       "1  https://www.undergraduate.study.cam.ac.uk/inte...  \n",
       "2  https://www.undergraduate.study.cam.ac.uk/coll...  \n",
       "3  https://www.undergraduate.study.cam.ac.uk?ucam...  \n",
       "4  https://www.undergraduate.study.cam.ac.uk/cour...  "
      ]
     },
     "execution_count": 9,
     "metadata": {},
     "output_type": "execute_result"
    }
   ],
   "source": [
    "for file in filtered_files:\n",
    "    with open(os.path.join('outputs', file), 'r') as f:\n",
    "        data = json.load(f)\n",
    "        for entry in data:\n",
    "            df = pd.concat([df, pd.DataFrame([{\n",
    "                'filename': file,\n",
    "                'university': entry.get('university', ''),\n",
    "                'url': entry.get('url', '')\n",
    "            }])], ignore_index=True)\n",
    "\n",
    "df.head()"
   ]
  },
  {
   "cell_type": "code",
   "execution_count": 10,
   "metadata": {},
   "outputs": [],
   "source": [
    "# write the DataFrame to a csv file\n",
    "df.to_csv('results.csv', index=False)"
   ]
  },
  {
   "cell_type": "markdown",
   "metadata": {},
   "source": [
    "More Intense Section"
   ]
  },
  {
   "cell_type": "code",
   "execution_count": null,
   "metadata": {},
   "outputs": [],
   "source": [
    "# get the list of files in the outputs directory\n",
    "files = os.listdir('outputs')\n",
    "\n",
    "files"
   ]
  },
  {
   "cell_type": "code",
   "execution_count": 11,
   "metadata": {},
   "outputs": [],
   "source": [
    "df = pd.DataFrame(columns=['filename', \"university\", \"url\"])"
   ]
  },
  {
   "cell_type": "code",
   "execution_count": null,
   "metadata": {},
   "outputs": [],
   "source": []
  }
 ],
 "metadata": {
  "kernelspec": {
   "display_name": "tooling",
   "language": "python",
   "name": "python3"
  },
  "language_info": {
   "codemirror_mode": {
    "name": "ipython",
    "version": 3
   },
   "file_extension": ".py",
   "mimetype": "text/x-python",
   "name": "python",
   "nbconvert_exporter": "python",
   "pygments_lexer": "ipython3",
   "version": "3.11.11"
  }
 },
 "nbformat": 4,
 "nbformat_minor": 2
}
